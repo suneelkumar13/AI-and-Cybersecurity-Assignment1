{
  "nbformat": 4,
  "nbformat_minor": 0,
  "metadata": {
    "kernelspec": {
      "display_name": "Py35",
      "language": "python",
      "name": "py35"
    },
    "language_info": {
      "codemirror_mode": {
        "name": "ipython",
        "version": 3
      },
      "file_extension": ".py",
      "mimetype": "text/x-python",
      "name": "python",
      "nbconvert_exporter": "python",
      "pygments_lexer": "ipython3",
      "version": "3.5.4"
    },
    "colab": {
      "name": "AISec-Spam-Linear Regression.ipynb",
      "provenance": []
    }
  },
  "cells": [
    {
      "cell_type": "code",
      "metadata": {
        "id": "2NBP9EPb4A_X",
        "colab_type": "code",
        "outputId": "a413ed09-42ad-4e4d-8c0f-f9815b3f9ff0",
        "colab": {}
      },
      "source": [
        "import pandas as pd\n",
        "import numpy as np\n",
        "\n",
        "df = pd.read_csv('sms_spam_perceptron.csv')\n",
        "\n",
        "X = df.iloc[:, [1, 2]].values\n",
        "\n",
        "y = df.iloc[:, 0].values\n",
        "y = np.where(y == 'spam', -1, 1)\n",
        "\n",
        "from sklearn.linear_model import LinearRegression\n",
        "linear_regression = LinearRegression()\n",
        "linear_regression.fit(X,y)\n",
        "\n",
        "print (linear_regression.score(X,y))"
      ],
      "execution_count": 0,
      "outputs": [
        {
          "output_type": "stream",
          "text": [
            "0.5609580848733504\n"
          ],
          "name": "stdout"
        }
      ]
    }
  ]
}